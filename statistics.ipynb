{
  "nbformat": 4,
  "nbformat_minor": 0,
  "metadata": {
    "colab": {
      "provenance": []
    },
    "kernelspec": {
      "name": "python3",
      "display_name": "Python 3"
    },
    "language_info": {
      "name": "python"
    }
  },
  "cells": [
    {
      "cell_type": "markdown",
      "source": [
        "Q= Generate a list of 100 integers containing values between 90 to 130 and store it in the variable `int_list`.\n",
        "After generating the list, find the following:\n",
        "\n",
        "(i) Write a Python function to calculate the mean of a given list of numbers.\n",
        "\n",
        "Create a function to find the median of a list of numbers.\n",
        "\n",
        "(ii) Develop a program to compute the mode of a list of integers.\n",
        "\n",
        "(iii) Implement a function to calculate the weighted mean of a list of values and their corresponding weights.\n",
        "\n",
        "(iv) Write a Python function to find the geometric mean of a list of positive numbers.\n",
        "\n",
        "(v) Create a program to calculate the harmonic mean of a list of values.\n",
        "\n",
        "(vi) Build a function to determine the midrange of a list of numbers (average of the minimum and maximum).\n",
        "\n",
        "(vii) Implement a Python program to find the trimmed mean of a list, excluding a certain percentage of\n",
        "outliers.\n",
        "2. Generate a list of 500 integers containing values between 200 to 300 and store it in the variable `int_list2`.\n",
        "After generating the list, find the following:\n",
        "\n",
        "\n",
        "(i) Compare the given list of visualization for the given data:\n",
        "\n",
        "1. Frequency & Gaussian distribution\n",
        "\n",
        "2. Frequency smoothened KDE plot\n",
        "\n",
        "3. Gaussian distribution & smoothened KDE plot\n",
        "\n",
        "\n",
        "(ii) Write a Python function to calculate the range of a given list of numbers.\n",
        "\n",
        "\n",
        "(iii) Create a program to find the variance and standard deviation of a list of numbers.\n",
        "\n",
        "\n",
        "(iv) Implement a function to compute the interquartile range (IQR) of a list of values.\n",
        "\n",
        "\n",
        "(v) Build a program to calculate the coefficient of variation for a dataset.\n",
        "\n",
        "(vi) Write a Python function to find the mean absolute deviation (MAD) of a list of numbers.\n",
        "\n",
        "\n",
        "(vii) Create a program to calculate the quartile deviation of a list of values.\n",
        "\n",
        "(viii) Implement a function to find the range-based coefficient of dispersion for a dataset.\n",
        "Practice Questions\n",
        "\n",
        "\n",
        ") Write a Python class representing a discrete random variable with methods to calculate its expected\n",
        "value and variance.\n",
        "\n",
        "0) Implement a program to simulate the rolling of a fair six-sided die and calculate the expected value and\n",
        "variance of the outcomes.\n",
        "\n",
        "_) Create a Python function to generate random samples from a given probability distribution (e.g.,\n",
        "binomial, Poisson) and calculate their mean and variance.\n",
        "\n",
        "}) Write a Python script to generate random numbers from a Gaussian (normal) distribution and compute\n",
        "the mean, variance, and standard deviation of the samples.\n",
        "\n",
        ") Write a Python function to calculate the probability density function (PDF) of a continuous random\n",
        "variable for a given normal distribution.\n",
        "\n",
        " ̧) Create a program to calculate the cumulative distribution function (CDF) of exponential distribution.\n",
        "\n",
        "ÕÐ) Write a Python function to calculate the probability mass function (PMF) of Poisson distribution.\n",
        "\n",
        "\u0012) Use seaborn library to load `tips` dataset. Find the following from the dataset for the columns `total_bill`\n",
        "and `tip`:\n",
        "\n",
        "(i) Write a Python function that calculates their skewness.\n",
        "\n",
        "\n",
        "(ii) Create a program that determines whether the columns exhibit positive skewness, negative skewness, or is\n",
        "approximately symmetric.\n",
        "\n",
        "\n",
        "(iii) Write a function that calculates the covariance between two columns.\n",
        "\n",
        "\n",
        "(iv) Implement a Python program that calculates the Pearson correlation coefficient between two columns.\n",
        "\n",
        "\n",
        "(v) Write a script to visualize the correlation between two specific columns in a Pandas DataFrame using"
      ],
      "metadata": {
        "id": "gi2K4mjgNkkb"
      }
    },
    {
      "cell_type": "markdown",
      "source": [
        ";;M A company wants to test if a new website layout leads to a higher conversion rate (percentage of visitors\n",
        "who make a purchase). They collect data from the old and new layouts to compare.\n",
        "\n",
        "\n",
        "To generate the data use the following command:\n",
        "\n",
        "```python\n",
        "\n",
        "import numpy as np\n",
        "\n",
        "# 50 purchases out of 1000 visitors\n",
        "\n",
        "old_layout = np.array([1] * 50 + [0] * 950)\n",
        "\n",
        "# 70 purchases out of 1000 visitors\n",
        "new_layout = np.array([1] * 70 + [0] * 930)\n",
        "\n",
        "```\n",
        "\n",
        "Apply z-test to find which layout is successful.\n",
        "\n",
        ";¤M A tutoring service claims that its program improves students' exam scores. A sample of students who\n",
        "participated in the program was taken, and their scores before and after the program were recorded.\n",
        "\n",
        "\n",
        "Use the below code to generate samples of respective arrays of marks:\n",
        "\n",
        "```python\n",
        "\n",
        "before_program = np.array([75, 80, 85, 70, 90, 78, 92, 88, 82, 87])\n",
        "\n",
        "after_program = np.array([80, 85, 90, 80, 92, 80, 95, 90, 85, 88])\n",
        "\n",
        "```\n",
        "\n",
        "Use z-test to find if the claims made by tutor are true or false.\n",
        "\n",
        ";êM A pharmaceutical company wants to determine if a new drug is effective in reducing blood pressure. They\n",
        "conduct a study and record blood pressure measurements before and after administering the drug.\n",
        "\n",
        "\n",
        "Use the below code to generate samples of respective arrays of blood pressure:\n",
        "\n",
        "\n",
        "```python\n",
        "\n",
        "before_drug = np.array([145, 150, 140, 135, 155, 160, 152, 148, 130, 138])\n",
        "\n",
        "after_drug = np.array([130, 140, 132, 128, 145, 148, 138, 136, 125, 130])\n",
        "\n",
        "```\n",
        "\n",
        "\n",
        "Implement z-test to find if the drug really works or not.\n",
        "\n",
        "29U A customer service department claims that their average response time is less than 5 minutes. A sample\n",
        "of recent customer interactions was taken, and the response times were recorded.\n",
        "\n",
        "\n",
        "Implement the below code to generate the array of response time:\n",
        "\n",
        "```python\n",
        "\n",
        "response_times = np.array([4.3, 3.8, 5.1, 4.9, 4.7, 4.2, 5.2, 4.5, 4.6, 4.4])\n",
        "\n",
        "```\n",
        "\n",
        "Implement z-test to find the claims made by customer service department are tru or false.\n",
        "\n",
        "2£U A company is testing two different website layouts to see which one leads to higher click-through rates.\n",
        "Write a Python function to perform an A/B test analysis, including calculating the t-statistic, degrees of\n",
        "freedom, and p-value.\n",
        "\n",
        "\n",
        "Use the following data:\n",
        "\n",
        "```python\n",
        "\n",
        "layout_a_clicks = [28, 32, 33, 29, 31, 34, 30, 35, 36, 37]\n",
        "\n",
        "layout_b_clicks = [40, 41, 38, 42, 39, 44, 43, 41, 45, 47]\n",
        "\n",
        "2êU A pharmaceutical company wants to determine if a new drug is more effective than an existing drug in\n",
        "reducing cholesterol levels. Create a program to analyze the clinical trial data and calculate the t-\n",
        "statistic and p-value for the treatment effect.\n",
        "\n",
        "\n",
        "Use the following data of cholestrol level:\n",
        "\n",
        "```python\n",
        "\n",
        "existing_drug_levels = [180, 182, 175, 185, 178, 176, 172, 184, 179, 183]\n",
        "\n",
        "new_drug_levels = [170, 172, 165, 168, 175, 173, 170, 178, 172, 176]\n",
        "\n",
        "```\n",
        "\n",
        "2.U A school district introduces an educational intervention program to improve math scores. Write a Python\n",
        "function to analyze pre- and post-intervention test scores, calculating the t-statistic and p-value to\n",
        "determine if the intervention had a significant impact.\n",
        "\n",
        "\n",
        "Use the following data of test score:\n",
        "\n",
        "\n",
        "```python\n",
        "\n",
        "pre_intervention_scores = [80, 85, 90, 75, 88, 82, 92, 78, 85, 87]\n",
        "\n",
        "post_intervention_scores = [90, 92, 88, 92, 95, 91, 96, 93, 89, 93]\n",
        "\n",
        "```\n",
        "\n",
        "VX? An HR department wants to investigate if there's a gender-based salary gap within the company. Develop\n",
        "a program to analyze salary data, calculate the t-statistic, and determine if there's a statistically\n",
        "significant difference between the average salaries of male and female employees.\n",
        "\n",
        "\n",
        "Use the below code to generate synthetic data:\n",
        "\n",
        "\n",
        "```python\n",
        "\n",
        "# Generate synthetic salary data for male and female employees\n",
        "\n",
        "np.random.seed(0) # For reproducibility\n",
        "\n",
        "male_salaries = np.random.normal(loc=50000, scale=10000, size=20)\n",
        "\n",
        "female_salaries = np.random.normal(loc=55000, scale=9000, size=20)\n",
        "\n",
        "```\n",
        "\n",
        "V? A manufacturer produces two different versions of a product and wants to compare their quality scores.\n",
        "Create a Python function to analyze quality assessment data, calculate the t-statistic, and decide\n",
        "whether there's a significant difference in quality between the two versions.\n",
        "\n",
        "\n",
        "Use the following data:\n",
        "\n",
        "\n",
        "```python\n",
        "\n",
        "version1_scores = [85, 88, 82, 89, 87, 84, 90, 88, 85, 86, 91, 83, 87, 84, 89, 86, 84, 88, 85, 86, 89, 90, 87, 88, 85]\n",
        "\n",
        "version2_scores = [80, 78, 83, 81, 79, 82, 76, 80, 78, 81, 77, 82, 80, 79, 82, 79, 80, 81, 79, 82, 79, 78, 80, 81, 82]\n",
        "\n",
        "```\n",
        "\n",
        "20. A restaurant chain collects customer satisfaction scores for two different branches. Write a program to\n",
        "analyze the scores, calculate the t-statistic, and determine if there's a statistically significant difference in\n",
        "customer satisfaction between the branches.\n",
        "\n",
        "\n",
        "Use the below data of scores:\n",
        "\n",
        "```python\n",
        "\n",
        "branch_a_scores = [4, 5, 3, 4, 5, 4, 5, 3, 4, 4, 5, 4, 4, 3, 4, 5, 5, 4, 3, 4, 5, 4, 3, 5, 4, 4, 5, 3, 4, 5, 4]\n",
        "\n",
        "branch_b_scores = [3, 4, 2, 3, 4, 3, 4, 2, 3, 3, 4, 3, 3, 2, 3, 4, 4, 3, 2, 3, 4, 3, 2, 4, 3, 3, 4, 2, 3, 4, 3]\n",
        "\n",
        "RV? A political analyst wants to determine if there is a significant association between age groups and voter\n",
        "preferences (Candidate A or Candidate B). They collect data from a sample of 500 voters and classify\n",
        "them into different age groups and candidate preferences. Perform a Chi-Square test to determine if\n",
        "there is a significant association between age groups and voter preferences.\n",
        "\n",
        "\n",
        "Use the below code to generate data:\n",
        "\n",
        "```python\n",
        "\n",
        "np.random.seed(0)\n",
        "\n",
        "age_groups = np.random.choice(['18-30', '31-50', '51+', '51+'], size=30)\n",
        "\n",
        "voter_preferences = np.random.choice(['Candidate A', 'Candidate B'], size=30)\n",
        "Practice Questions\n",
        "\n",
        "22. A company conducted a customer satisfaction survey to determine if there is a significant relationship\n",
        "between product satisfaction levels (Satisfied, Neutral, Dissatisfied) and the region where customers are\n",
        "located (East, West, North, South). The survey data is summarized in a contingency table. Conduct a Chi-\n",
        "Square test to determine if there is a significant relationship between product satisfaction levels and\n",
        "customer regions.\n",
        "\n",
        "\n",
        "Sample data:\n",
        "\n",
        "```python\n",
        "\n",
        "#Sample data: Product satisfaction levels (rows) vs. Customer regions (columns)\n",
        "\n",
        "data = np.array([[50, 30, 40, 20], [30, 40, 30, 50], [20, 30, 40, 30]])\n",
        "\n",
        "```\n",
        "\n",
        "23. A company implemented an employee training program to improve job performance (Effective, Neutral,\n",
        "Ineffective). After the training, they collected data from a sample of employees and classified them based\n",
        "on their job performance before and after the training. Perform a Chi-Square test to determine if there is a\n",
        "significant difference between job performance levels before and after the training.\n",
        "\n",
        "\n",
        "Sample data:\n",
        "\n",
        "```python\n",
        "\n",
        "# Sample data: Job performance levels before (rows) and after (columns) training\n",
        "\n",
        "data = np.array([[50, 30, 20], [30, 40, 30], [20, 30, 40]])\n",
        "\n",
        "```\n",
        "24. A company produces three different versions of a product: Standard, Premium, and Deluxe. The\n",
        "company wants to determine if there is a significant difference in customer satisfaction scores among the\n",
        "three product versions. They conducted a survey and collected customer satisfaction scores for each\n",
        "version from a random sample of customers. Perform an ANOVA test to determine if there is a significant\n",
        "difference in customer satisfaction scores.\n",
        "\n",
        "\n",
        "Use the following data:\n",
        "\n",
        "```python\n",
        "\n",
        "# Sample data: Customer satisfaction scores for each product version\n",
        "\n",
        "standard_scores = [80, 85, 90, 78, 88, 82, 92, 78, 85, 87]\n",
        "\n",
        "premium_scores = [90, 92, 88, 92, 95, 91, 96, 93, 89, 93]\n",
        "\n",
        "deluxe_scores = [95, 98, 92, 97, 96, 94, 98, 97, 92, 99]\n"
      ],
      "metadata": {
        "id": "a2bQTFu2NykD"
      }
    },
    {
      "cell_type": "code",
      "source": [
        "import random\n",
        "from collections import Counter\n",
        "from math import prod\n",
        "\n",
        "# Generate a list of 100 integers between 90 and 130\n",
        "int_list = [random.randint(90, 130) for _ in range(100)]\n",
        "\n",
        "# (i) Function to calculate the mean of a list\n",
        "def calculate_mean(numbers):\n",
        "    return sum(numbers) / len(numbers)\n",
        "\n",
        "# Function to calculate the median of a list\n",
        "def calculate_median(numbers):\n",
        "    sorted_numbers = sorted(numbers)\n",
        "    n = len(sorted_numbers)\n",
        "    mid = n // 2\n",
        "    if n % 2 == 0:\n",
        "        return (sorted_numbers[mid - 1] + sorted_numbers[mid]) / 2\n",
        "    else:\n",
        "        return sorted_numbers[mid]\n",
        "\n",
        "# (ii) Program to compute the mode of a list\n",
        "def calculate_mode(numbers):\n",
        "    frequency = Counter(numbers)\n",
        "    max_count = max(frequency.values())\n",
        "    modes = [key for key, count in frequency.items() if count == max_count]\n",
        "    return modes  # Returns a list of modes in case of ties\n",
        "\n",
        "# (iii) Function to calculate the weighted mean\n",
        "def calculate_weighted_mean(values, weights):\n",
        "    weighted_sum = sum(v * w for v, w in zip(values, weights))\n",
        "    return weighted_sum / sum(weights)\n",
        "\n",
        "# (iv) Function to calculate the geometric mean\n",
        "def calculate_geometric_mean(numbers):\n",
        "    return prod(numbers) ** (1 / len(numbers))\n",
        "\n",
        "# (v) Function to calculate the harmonic mean\n",
        "def calculate_harmonic_mean(numbers):\n",
        "    return len(numbers) / sum(1 / x for x in numbers)\n",
        "\n",
        "# (vi) Function to calculate the midrange\n",
        "def calculate_midrange(numbers):\n",
        "    return (min(numbers) + max(numbers)) / 2\n",
        "\n",
        "# (vii) Function to calculate the trimmed mean\n",
        "def calculate_trimmed_mean(numbers, trim_percent):\n",
        "    sorted_numbers = sorted(numbers)\n",
        "    n = len(numbers)\n",
        "    trim_count = int(n * trim_percent / 100)\n",
        "    trimmed_numbers = sorted_numbers[trim_count:n - trim_count]\n",
        "    return calculate_mean(trimmed_numbers)\n",
        "\n",
        "# Results\n",
        "print(f\"Generated List: {int_list}\")\n",
        "print(f\"Mean: {calculate_mean(int_list)}\")\n",
        "print(f\"Median: {calculate_median(int_list)}\")\n",
        "print(f\"Mode: {calculate_mode(int_list)}\")\n",
        "print(f\"Weighted Mean (example weights): {calculate_weighted_mean(int_list, [1] * len(int_list))}\")\n",
        "print(f\"Geometric Mean: {calculate_geometric_mean(int_list)}\")\n",
        "print(f\"Harmonic Mean: {calculate_harmonic_mean(int_list)}\")\n",
        "print(f\"Midrange: {calculate_midrange(int_list)}\")\n",
        "print(f\"Trimmed Mean (10% trim): {calculate_trimmed_mean(int_list, 10)}\")\n"
      ],
      "metadata": {
        "id": "w1qpZuzoOZax",
        "colab": {
          "base_uri": "https://localhost:8080/"
        },
        "outputId": "0529589e-f337-462f-ab61-5c369549fe45"
      },
      "execution_count": 1,
      "outputs": [
        {
          "output_type": "stream",
          "name": "stdout",
          "text": [
            "Generated List: [101, 105, 116, 92, 113, 129, 99, 102, 113, 98, 110, 92, 112, 93, 118, 96, 92, 114, 99, 94, 108, 130, 126, 129, 95, 107, 120, 90, 98, 112, 105, 116, 105, 110, 99, 111, 96, 118, 96, 117, 101, 104, 118, 128, 93, 125, 92, 92, 104, 95, 114, 123, 99, 102, 109, 97, 108, 99, 94, 104, 123, 108, 117, 115, 129, 96, 100, 122, 105, 107, 102, 129, 106, 126, 114, 126, 107, 104, 108, 94, 99, 116, 93, 117, 121, 117, 99, 116, 106, 125, 122, 92, 95, 117, 104, 128, 119, 121, 105, 100]\n",
            "Mean: 108.27\n",
            "Median: 107.0\n",
            "Mode: [99]\n",
            "Weighted Mean (example weights): 108.27\n",
            "Geometric Mean: 107.68413530133101\n",
            "Harmonic Mean: 107.1063080661215\n",
            "Midrange: 110.0\n",
            "Trimmed Mean (10% trim): 107.825\n"
          ]
        }
      ]
    },
    {
      "cell_type": "code",
      "source": [
        "import random\n",
        "import numpy as np\n",
        "import seaborn as sns\n",
        "import matplotlib.pyplot as plt\n",
        "\n",
        "# Generate a list of 500 integers between 200 and 300\n",
        "int_list2 = [random.randint(200, 300) for _ in range(500)]\n",
        "\n",
        "# (i) Visualization\n",
        "def visualize_data(data):\n",
        "    plt.figure(figsize=(18, 6))\n",
        "\n",
        "    # 1. Frequency & Gaussian distribution\n",
        "    plt.subplot(1, 3, 1)\n",
        "    sns.histplot(data, bins=20, kde=False, color=\"blue\", label=\"Frequency\")\n",
        "    sns.kdeplot(data, color=\"red\", label=\"Gaussian Distribution\")\n",
        "    plt.title(\"Frequency & Gaussian Distribution\")\n",
        "    plt.legend()\n",
        "\n",
        "    # 2. Frequency Smoothened KDE Plot\n",
        "    plt.subplot(1, 3, 2)\n",
        "    sns.histplot(data, bins=20, kde=True, color=\"purple\", label=\"Frequency\")\n",
        "    plt.title(\"Frequency Smoothened KDE Plot\")\n",
        "    plt.legend()\n",
        "\n",
        "    # 3. Gaussian Distribution & Smoothened KDE\n",
        "    plt.subplot(1, 3, 3)\n",
        "    sns.kdeplot(data, color=\"green\", label=\"KDE Plot\")\n",
        "    sns.histplot(data, bins=20, kde=True, color=\"orange\", alpha=0.5)\n",
        "    plt.title(\"Gaussian Distribution & Smoothened KDE Plot\")\n",
        "    plt.legend()\n",
        "\n",
        "    plt.tight_layout()\n",
        "    plt.show()\n",
        "\n",
        "# (ii) Function to calculate the range\n",
        "def calculate_range(numbers):\n",
        "    return max(numbers) - min(numbers)\n",
        "\n",
        "# (iii) Program to calculate variance and standard deviation\n",
        "def calculate_variance_and_std(numbers):\n",
        "    variance = np.var(numbers, ddof=1)  # Sample variance\n",
        "    std_dev = np.std(numbers, ddof=1)  # Sample standard deviation\n",
        "    return variance, std_dev\n",
        "\n",
        "# (iv) Function to compute IQR\n",
        "def calculate_iqr(numbers):\n",
        "    q1 = np.percentile(numbers, 25)\n",
        "    q3 = np.percentile(numbers, 75)\n",
        "    return q3 - q1\n",
        "\n",
        "# (v) Program to calculate coefficient of variation\n",
        "def calculate_cv(numbers):\n",
        "    mean = np.mean(numbers)\n",
        "    std_dev = np.std(numbers, ddof=1)\n",
        "    return (std_dev / mean) * 100\n",
        "\n",
        "# (vi) Function to calculate Mean Absolute Deviation (MAD)\n",
        "def calculate_mad(numbers):\n",
        "    mean = np.mean(numbers)\n",
        "    mad = np.mean([abs(x - mean) for x in numbers])\n",
        "    return mad\n",
        "\n",
        "# (vii) Function to calculate quartile deviation\n",
        "def calculate_quartile_deviation(numbers):\n",
        "    q1 = np.percentile(numbers, 25)\n",
        "    q3 = np.percentile(numbers, 75)\n",
        "    return (q3 - q1) / 2\n",
        "\n",
        "# (viii) Function to calculate range-based coefficient of dispersion\n",
        "def calculate_dispersion(numbers):\n",
        "    range_value = calculate_range(numbers)\n",
        "    mean = np.mean(numbers)\n",
        "    return (range_value / mean) * 100\n",
        "\n",
        "# Results\n",
        "visualize_data(int_list2)\n",
        "\n",
        "range_value = calculate_range(int_list2)\n",
        "variance, std_dev = calculate_variance_and_std(int_list2)\n",
        "iqr = calculate_iqr(int_list2)\n",
        "cv = calculate_cv(int_list2)\n",
        "mad = calculate_mad(int_list2)\n",
        "quartile_deviation = calculate_quartile_deviation(int_list2)\n",
        "dispersion = calculate_dispersion(int_list2)\n",
        "\n",
        "print(f\"Range: {range_value}\")\n",
        "print(f\"Variance: {variance}\")\n",
        "print(f\"Standard Deviation: {std_dev}\")\n",
        "print(f\"Interquartile Range (IQR): {iqr}\")\n",
        "print(f\"Coefficient of Variation: {cv}%\")\n",
        "print(f\"Mean Absolute Deviation (MAD): {mad}\")\n",
        "print(f\"Quartile Deviation: {quartile_deviation}\")\n",
        "print(f\"Range-based Coefficient of Dispersion: {dispersion}%\")\n"
      ],
      "metadata": {
        "id": "MMNz3H6UObD4",
        "colab": {
          "base_uri": "https://localhost:8080/",
          "height": 563
        },
        "outputId": "1c7e9eb5-7473-4de3-e5c7-f3ea14962a25"
      },
      "execution_count": 2,
      "outputs": [
        {
          "output_type": "display_data",
          "data": {
            "text/plain": [
              "<Figure size 1800x600 with 3 Axes>"
            ],
            "image/png": "[encoded data removed]"
          },
          "metadata": {}
        },
        {
          "output_type": "stream",
          "name": "stdout",
          "text": [
            "Range: 100\n",
            "Variance: 853.4332505010021\n",
            "Standard Deviation: 29.213579898756027\n",
            "Interquartile Range (IQR): 51.0\n",
            "Coefficient of Variation: 11.67590442149447%\n",
            "Mean Absolute Deviation (MAD): 25.364\n",
            "Quartile Deviation: 25.5\n",
            "Range-based Coefficient of Dispersion: 39.96738661252418%\n"
          ]
        }
      ]
    },
    {
      "cell_type": "markdown",
      "source": [
        "**Python Class for a Discrete Random Variable**"
      ],
      "metadata": {
        "id": "Zb8x36GOPKZ5"
      }
    },
    {
      "cell_type": "code",
      "source": [
        "class DiscreteRandomVariable:\n",
        "    def __init__(self, outcomes, probabilities):\n",
        "        \"\"\"\n",
        "        outcomes: List of possible values of the random variable\n",
        "        probabilities: Corresponding probabilities of the outcomes\n",
        "        \"\"\"\n",
        "        if len(outcomes) != len(probabilities) or not np.isclose(sum(probabilities), 1):\n",
        "            raise ValueError(\"Probabilities must sum to 1 and match outcomes.\")\n",
        "        self.outcomes = outcomes\n",
        "        self.probabilities = probabilities\n",
        "\n",
        "    def expected_value(self):\n",
        "        return sum(o * p for o, p in zip(self.outcomes, self.probabilities))\n",
        "\n",
        "    def variance(self):\n",
        "        mean = self.expected_value()\n",
        "        return sum(p * (o - mean) ** 2 for o, p in zip(self.outcomes, self.probabilities))\n",
        "\n",
        "# Example\n",
        "outcomes = [1, 2, 3, 4, 5, 6]\n",
        "probabilities = [1/6] * 6\n",
        "drv = DiscreteRandomVariable(outcomes, probabilities)\n",
        "print(\"Expected Value:\", drv.expected_value())\n",
        "print(\"Variance:\", drv.variance())\n"
      ],
      "metadata": {
        "id": "5bwCqYOwObG2",
        "colab": {
          "base_uri": "https://localhost:8080/"
        },
        "outputId": "13010c3e-c80e-4728-a022-53d91e181c43"
      },
      "execution_count": 3,
      "outputs": [
        {
          "output_type": "stream",
          "name": "stdout",
          "text": [
            "Expected Value: 3.5\n",
            "Variance: 2.9166666666666665\n"
          ]
        }
      ]
    },
    {
      "cell_type": "markdown",
      "source": [
        "**Simulating the Rolling of a Fair Six-Sided Die**"
      ],
      "metadata": {
        "id": "cZ6K7HLfPSFr"
      }
    },
    {
      "cell_type": "code",
      "source": [
        "import random\n",
        "\n",
        "def roll_die(num_rolls=1000):\n",
        "    outcomes = [1, 2, 3, 4, 5, 6]\n",
        "    rolls = [random.choice(outcomes) for _ in range(num_rolls)]\n",
        "    expected_value = sum(rolls) / num_rolls\n",
        "    variance = sum((x - expected_value) ** 2 for x in rolls) / num_rolls\n",
        "    return expected_value, variance\n",
        "\n",
        "expected_value, variance = roll_die()\n",
        "print(\"Expected Value:\", expected_value)\n",
        "print(\"Variance:\", variance)\n"
      ],
      "metadata": {
        "id": "rtPqIZ6oObJK",
        "colab": {
          "base_uri": "https://localhost:8080/"
        },
        "outputId": "1adc8912-3312-421b-cbb2-8d43e279776e"
      },
      "execution_count": 4,
      "outputs": [
        {
          "output_type": "stream",
          "name": "stdout",
          "text": [
            "Expected Value: 3.443\n",
            "Variance: 3.1467510000000396\n"
          ]
        }
      ]
    },
    {
      "cell_type": "markdown",
      "source": [
        "**Generate Random Samples from a Given Probability Distribution**"
      ],
      "metadata": {
        "id": "0cjRZjGEPZN3"
      }
    },
    {
      "cell_type": "code",
      "source": [
        "import numpy as np\n",
        "\n",
        "def generate_random_samples(distribution, params, size=1000):\n",
        "    if distribution == \"binomial\":\n",
        "        samples = np.random.binomial(n=params[\"n\"], p=params[\"p\"], size=size)\n",
        "    elif distribution == \"poisson\":\n",
        "        samples = np.random.poisson(lam=params[\"lambda\"], size=size)\n",
        "    else:\n",
        "        raise ValueError(\"Unsupported distribution\")\n",
        "\n",
        "    mean = np.mean(samples)\n",
        "    variance = np.var(samples)\n",
        "    return samples, mean, variance\n",
        "\n",
        "# Example: Binomial Distribution\n",
        "samples, mean, variance = generate_random_samples(\"binomial\", {\"n\": 10, \"p\": 0.5})\n",
        "print(\"Mean:\", mean)\n",
        "print(\"Variance:\", variance)\n",
        "\n",
        "# Example: Poisson Distribution\n",
        "samples, mean, variance = generate_random_samples(\"poisson\", {\"lambda\": 4})\n",
        "print(\"Mean:\", mean)\n",
        "print(\"Variance:\", variance)\n"
      ],
      "metadata": {
        "id": "3eNSZFhNObO1",
        "colab": {
          "base_uri": "https://localhost:8080/"
        },
        "outputId": "12ead382-bae8-49ab-f1b9-011cebb07275"
      },
      "execution_count": 5,
      "outputs": [
        {
          "output_type": "stream",
          "name": "stdout",
          "text": [
            "Mean: 5.062\n",
            "Variance: 2.494156\n",
            "Mean: 3.966\n",
            "Variance: 4.054844\n"
          ]
        }
      ]
    },
    {
      "cell_type": "markdown",
      "source": [
        "**Generate Random Numbers from a Gaussian Distribution\n",
        "python\n",
        "Copy\n",
        "Edit\n",
        "**"
      ],
      "metadata": {
        "id": "FiqhzGHVPduG"
      }
    },
    {
      "cell_type": "code",
      "source": [
        "def gaussian_distribution(mean, std_dev, size=1000):\n",
        "    samples = np.random.normal(loc=mean, scale=std_dev, size=size)\n",
        "    mean_sample = np.mean(samples)\n",
        "    variance_sample = np.var(samples)\n",
        "    std_dev_sample = np.std(samples)\n",
        "    return samples, mean_sample, variance_sample, std_dev_sample\n",
        "\n",
        "# Example\n",
        "samples, mean, variance, std_dev = gaussian_distribution(mean=0, std_dev=1)\n",
        "print(\"Sample Mean:\", mean)\n",
        "print(\"Sample Variance:\", variance)\n",
        "print(\"Sample Standard Deviation:\", std_dev)\n"
      ],
      "metadata": {
        "id": "eFyZJtETPeBk",
        "colab": {
          "base_uri": "https://localhost:8080/"
        },
        "outputId": "2969a6fb-e94f-4c6e-9687-082a421e2a01"
      },
      "execution_count": 6,
      "outputs": [
        {
          "output_type": "stream",
          "name": "stdout",
          "text": [
            "Sample Mean: 0.02506982863619424\n",
            "Sample Variance: 1.107659465628657\n",
            "Sample Standard Deviation: 1.0524540206719992\n"
          ]
        }
      ]
    },
    {
      "cell_type": "markdown",
      "source": [
        "** Load the Dataset and Calculate Skewness**"
      ],
      "metadata": {
        "id": "HpwsqLNGPkpQ"
      }
    },
    {
      "cell_type": "code",
      "source": [
        "import seaborn as sns\n",
        "import pandas as pd\n",
        "import numpy as np\n",
        "import matplotlib.pyplot as plt\n",
        "\n",
        "# Load the dataset\n",
        "tips = sns.load_dataset('tips')\n",
        "\n",
        "# Function to calculate skewness\n",
        "def calculate_skewness(column):\n",
        "    return column.skew()\n",
        "\n",
        "# Skewness of 'total_bill' and 'tip'\n",
        "total_bill_skewness = calculate_skewness(tips['total_bill'])\n",
        "tip_skewness = calculate_skewness(tips['tip'])\n",
        "\n",
        "print(f\"Skewness of 'total_bill': {total_bill_skewness}\")\n",
        "print(f\"Skewness of 'tip': {tip_skewness}\")\n"
      ],
      "metadata": {
        "id": "QNgHmV5_PrOv",
        "colab": {
          "base_uri": "https://localhost:8080/"
        },
        "outputId": "a7f8d15d-64de-474a-d67a-d04c5507f852"
      },
      "execution_count": 7,
      "outputs": [
        {
          "output_type": "stream",
          "name": "stdout",
          "text": [
            "Skewness of 'total_bill': 1.1332130376158205\n",
            "Skewness of 'tip': 1.4654510370979401\n"
          ]
        }
      ]
    },
    {
      "cell_type": "markdown",
      "source": [
        "**Determine Skewness Type**"
      ],
      "metadata": {
        "id": "tOnGQD4TPvlN"
      }
    },
    {
      "cell_type": "code",
      "source": [
        "def skewness_type(column_name, skewness):\n",
        "    if skewness > 0:\n",
        "        return f\"'{column_name}' exhibits positive skewness.\"\n",
        "    elif skewness < 0:\n",
        "        return f\"'{column_name}' exhibits negative skewness.\"\n",
        "    else:\n",
        "        return f\"'{column_name}' is approximately symmetric.\"\n",
        "\n",
        "print(skewness_type(\"total_bill\", total_bill_skewness))\n",
        "print(skewness_type(\"tip\", tip_skewness))\n"
      ],
      "metadata": {
        "id": "sbY5Dvf7Pk_y",
        "colab": {
          "base_uri": "https://localhost:8080/"
        },
        "outputId": "f05f1084-171f-4dff-f44e-d723362bdf43"
      },
      "execution_count": 8,
      "outputs": [
        {
          "output_type": "stream",
          "name": "stdout",
          "text": [
            "'total_bill' exhibits positive skewness.\n",
            "'tip' exhibits positive skewness.\n"
          ]
        }
      ]
    },
    {
      "cell_type": "markdown",
      "source": [
        "** Calculate Covariance Between Two Columns**"
      ],
      "metadata": {
        "id": "pJwaC_c-P1ut"
      }
    },
    {
      "cell_type": "code",
      "source": [
        "def calculate_covariance(column1, column2):\n",
        "    return np.cov(column1, column2)[0, 1]\n",
        "\n",
        "covariance = calculate_covariance(tips['total_bill'], tips['tip'])\n",
        "print(f\"Covariance between 'total_bill' and 'tip': {covariance}\")\n"
      ],
      "metadata": {
        "id": "xtfh2PggP1dZ",
        "colab": {
          "base_uri": "https://localhost:8080/"
        },
        "outputId": "2204dc73-9960-4f0a-f92b-49d28901de3c"
      },
      "execution_count": 9,
      "outputs": [
        {
          "output_type": "stream",
          "name": "stdout",
          "text": [
            "Covariance between 'total_bill' and 'tip': 8.323501629224854\n"
          ]
        }
      ]
    },
    {
      "cell_type": "markdown",
      "source": [
        "**Calculate Pearson Correlation Coefficient**"
      ],
      "metadata": {
        "id": "KJFbHs9MQARQ"
      }
    },
    {
      "cell_type": "code",
      "source": [
        "def calculate_pearson_correlation(column1, column2):\n",
        "    return np.corrcoef(column1, column2)[0, 1]\n",
        "\n",
        "pearson_corr = calculate_pearson_correlation(tips['total_bill'], tips['tip'])\n",
        "print(f\"Pearson Correlation Coefficient between 'total_bill' and 'tip': {pearson_corr}\")\n"
      ],
      "metadata": {
        "id": "a_DS9sGzQG9p",
        "colab": {
          "base_uri": "https://localhost:8080/"
        },
        "outputId": "37196834-966a-481a-900d-0e386354f865"
      },
      "execution_count": 10,
      "outputs": [
        {
          "output_type": "stream",
          "name": "stdout",
          "text": [
            "Pearson Correlation Coefficient between 'total_bill' and 'tip': 0.6757341092113641\n"
          ]
        }
      ]
    },
    {
      "cell_type": "markdown",
      "source": [
        "**Visualize Correlation Using Scatter Plot**"
      ],
      "metadata": {
        "id": "o8F_pPrOQMPm"
      }
    },
    {
      "cell_type": "code",
      "source": [
        "# Scatter plot to visualize correlation\n",
        "plt.figure(figsize=(8, 6))\n",
        "sns.scatterplot(x='total_bill', y='tip', data=tips)\n",
        "plt.title('Correlation between Total Bill and Tip')\n",
        "plt.xlabel('Total Bill')\n",
        "plt.ylabel('Tip')\n",
        "plt.grid(True)\n",
        "plt.show()\n"
      ],
      "metadata": {
        "id": "pv1wTBfLQAoQ",
        "colab": {
          "base_uri": "https://localhost:8080/",
          "height": 564
        },
        "outputId": "2855bf10-fc61-4e83-fc05-cc848de49e84"
      },
      "execution_count": 11,
      "outputs": [
        {
          "output_type": "display_data",
          "data": {
            "text/plain": [
              "<Figure size 800x600 with 1 Axes>"
            ],
            "image/png": "[encoded data removed]"
          },
          "metadata": {}
        }
      ]
    },
    {
      "cell_type": "markdown",
      "source": [
        "**Calculate the Probability Density Function (PDF) of a Normal Distribution\n",
        "The PDF for a normal distribution is given by:\n",
        "\n",
        "𝑓\n",
        "(\n",
        "𝑥\n",
        "∣\n",
        "𝜇\n",
        ",\n",
        "𝜎\n",
        ")\n",
        "=\n",
        "1\n",
        "2\n",
        "𝜋\n",
        "𝜎\n",
        "2\n",
        "𝑒\n",
        "−\n",
        "(\n",
        "𝑥\n",
        "−\n",
        "𝜇\n",
        ")\n",
        "2\n",
        "2\n",
        "𝜎\n",
        "2\n",
        "f(x∣μ,σ)=\n",
        "2πσ\n",
        "2\n",
        "\n",
        "​\n",
        "\n",
        "1\n",
        "​\n",
        " e\n",
        "−\n",
        "2σ\n",
        "2\n",
        "\n",
        "(x−μ)\n",
        "2\n",
        "\n",
        "​\n",
        "**"
      ],
      "metadata": {
        "id": "MVai82upQTxi"
      }
    },
    {
      "cell_type": "code",
      "source": [
        "import math\n",
        "\n",
        "def normal_pdf(x, mean, std_dev):\n",
        "    \"\"\"Calculate the Probability Density Function (PDF) of a normal distribution.\"\"\"\n",
        "    factor = 1 / (std_dev * math.sqrt(2 * math.pi))\n",
        "    exponent = math.exp(-((x - mean) ** 2) / (2 * std_dev ** 2))\n",
        "    return factor * exponent\n",
        "\n",
        "# Example usage\n",
        "x_value = 5\n",
        "mean = 5\n",
        "std_dev = 2\n",
        "pdf_value = normal_pdf(x_value, mean, std_dev)\n",
        "print(f\"PDF of normal distribution at x={x_value}, mean={mean}, std_dev={std_dev}: {pdf_value}\")\n"
      ],
      "metadata": {
        "id": "yoK2LJZGQUAC",
        "colab": {
          "base_uri": "https://localhost:8080/"
        },
        "outputId": "f1f118dc-cab8-4031-f19f-225a53af9b49"
      },
      "execution_count": 12,
      "outputs": [
        {
          "output_type": "stream",
          "name": "stdout",
          "text": [
            "PDF of normal distribution at x=5, mean=5, std_dev=2: 0.19947114020071635\n"
          ]
        }
      ]
    },
    {
      "cell_type": "markdown",
      "source": [
        "**Calculate the Cumulative Distribution Function (CDF) of an Exponential Distribution\n",
        "The CDF for an exponential distribution is:\n",
        "\n",
        "𝐹\n",
        "(\n",
        "𝑥\n",
        "∣\n",
        "𝜆\n",
        ")\n",
        "=\n",
        "1\n",
        "−\n",
        "𝑒\n",
        "−\n",
        "𝜆\n",
        "𝑥\n",
        ",\n",
        "𝑥\n",
        "≥\n",
        "0\n",
        "F(x∣λ)=1−e\n",
        "−λx\n",
        " ,x≥0**"
      ],
      "metadata": {
        "id": "PZuNzXPBQaLa"
      }
    },
    {
      "cell_type": "code",
      "source": [
        "def exponential_cdf(x, rate_lambda):\n",
        "    \"\"\"Calculate the Cumulative Distribution Function (CDF) of an exponential distribution.\"\"\"\n",
        "    if x < 0:\n",
        "        return 0\n",
        "    return 1 - math.exp(-rate_lambda * x)\n",
        "\n",
        "# Example usage\n",
        "x_value = 2\n",
        "rate_lambda = 1.5\n",
        "cdf_value = exponential_cdf(x_value, rate_lambda)\n",
        "print(f\"CDF of exponential distribution at x={x_value}, lambda={rate_lambda}: {cdf_value}\")\n"
      ],
      "metadata": {
        "id": "gQl93epYQcT9",
        "colab": {
          "base_uri": "https://localhost:8080/"
        },
        "outputId": "4bdf428c-b247-4ab2-9bf1-dd2c259eac18"
      },
      "execution_count": 13,
      "outputs": [
        {
          "output_type": "stream",
          "name": "stdout",
          "text": [
            "CDF of exponential distribution at x=2, lambda=1.5: 0.950212931632136\n"
          ]
        }
      ]
    },
    {
      "cell_type": "markdown",
      "source": [
        "*Calculate the Probability Mass Function (PMF) of a Poisson Distribution\n",
        "The PMF for a Poisson distribution is:\n",
        "\n",
        "𝑃\n",
        "(\n",
        "𝑋\n",
        "=\n",
        "𝑘\n",
        ")\n",
        "=\n",
        "𝜆\n",
        "𝑘\n",
        "𝑒\n",
        "−\n",
        "𝜆\n",
        "𝑘\n",
        "!\n",
        "P(X=k)=\n",
        "k!\n",
        "λ\n",
        "k\n",
        " e\n",
        "−λ\n",
        "\n",
        "​\n",
        "***"
      ],
      "metadata": {
        "id": "jLqNV7OIQgUq"
      }
    },
    {
      "cell_type": "code",
      "source": [
        "from math import exp, factorial\n",
        "\n",
        "def poisson_pmf(k, lambda_):\n",
        "    \"\"\"Calculate the Probability Mass Function (PMF) of a Poisson distribution.\"\"\"\n",
        "    return (lambda_ ** k * exp(-lambda_)) / factorial(k)\n",
        "\n",
        "# Example usage\n",
        "k_value = 3\n",
        "lambda_ = 4\n",
        "pmf_value = poisson_pmf(k_value, lambda_)\n",
        "print(f\"PMF of Poisson distribution at k={k_value}, lambda={lambda_}: {pmf_value}\")\n"
      ],
      "metadata": {
        "id": "JY3JwQ48Qlec",
        "colab": {
          "base_uri": "https://localhost:8080/"
        },
        "outputId": "2eead8e3-3ac3-4d54-89ce-8f613f405de9"
      },
      "execution_count": 14,
      "outputs": [
        {
          "output_type": "stream",
          "name": "stdout",
          "text": [
            "PMF of Poisson distribution at k=3, lambda=4: 0.19536681481316456\n"
          ]
        }
      ]
    },
    {
      "cell_type": "markdown",
      "source": [
        ". Website Layout Conversion Rate\n",
        "Problem:\n",
        "Determine if the new website layout leads to a higher conversion rate.\n",
        "\n",
        "Approach:\n",
        "Perform a two-proportion z-test to compare the conversion rates of the old and new layouts."
      ],
      "metadata": {
        "id": "T93oBOtAQrbN"
      }
    },
    {
      "cell_type": "code",
      "source": [
        "import numpy as np\n",
        "from statsmodels.stats.proportion import proportions_ztest\n",
        "\n",
        "# Data\n",
        "old_layout = np.array([1] * 50 + [0] * 950)\n",
        "new_layout = np.array([1] * 70 + [0] * 930)\n",
        "\n",
        "# Successes and total observations\n",
        "successes = [np.sum(old_layout), np.sum(new_layout)]\n",
        "nobs = [len(old_layout), len(new_layout)]\n",
        "\n",
        "# Perform z-test\n",
        "z_stat, p_value = proportions_ztest(count=successes, nobs=nobs, alternative='larger')\n",
        "\n",
        "print(f\"Z-statistic: {z_stat:.4f}, P-value: {p_value:.4f}\")\n",
        "if p_value < 0.05:\n",
        "    print(\"Reject the null hypothesis: The new layout has a higher conversion rate.\")\n",
        "else:\n",
        "    print(\"Fail to reject the null hypothesis: The new layout does not significantly increase the conversion rate.\")\n"
      ],
      "metadata": {
        "id": "EIXdCOsxQvI1",
        "colab": {
          "base_uri": "https://localhost:8080/"
        },
        "outputId": "f03d03e6-e878-494f-9913-5f27775540de"
      },
      "execution_count": 15,
      "outputs": [
        {
          "output_type": "stream",
          "name": "stdout",
          "text": [
            "Z-statistic: -1.8831, P-value: 0.9702\n",
            "Fail to reject the null hypothesis: The new layout does not significantly increase the conversion rate.\n"
          ]
        }
      ]
    },
    {
      "cell_type": "markdown",
      "source": [
        "Tutoring Service Improvement in Exam Scores"
      ],
      "metadata": {
        "id": "Y2qMeYXzQzsn"
      }
    },
    {
      "cell_type": "code",
      "source": [
        "import scipy.stats as stats\n",
        "\n",
        "# Data\n",
        "before_program = np.array([75, 80, 85, 70, 90, 78, 92, 88, 82, 87])\n",
        "after_program = np.array([80, 85, 90, 80, 92, 80, 95, 90, 85, 88])\n",
        "\n",
        "# Calculate differences\n",
        "differences = after_program - before_program\n",
        "\n",
        "# Perform z-test\n",
        "mean_diff = np.mean(differences)\n",
        "std_diff = np.std(differences, ddof=1)\n",
        "n = len(differences)\n",
        "\n",
        "z_stat = mean_diff / (std_diff / np.sqrt(n))\n",
        "p_value = stats.norm.sf(z_stat)  # One-tailed test\n",
        "\n",
        "print(f\"Z-statistic: {z_stat:.4f}, P-value: {p_value:.4f}\")\n",
        "if p_value < 0.05:\n",
        "    print(\"Reject the null hypothesis: The tutoring program improves scores.\")\n",
        "else:\n",
        "    print(\"Fail to reject the null hypothesis: The tutoring program does not significantly improve scores.\")\n"
      ],
      "metadata": {
        "id": "PqIUml6cQ1iZ",
        "colab": {
          "base_uri": "https://localhost:8080/"
        },
        "outputId": "48771fc3-d498-469f-cf24-6d815841a2e8"
      },
      "execution_count": 16,
      "outputs": [
        {
          "output_type": "stream",
          "name": "stdout",
          "text": [
            "Z-statistic: 4.5932, P-value: 0.0000\n",
            "Reject the null hypothesis: The tutoring program improves scores.\n"
          ]
        }
      ]
    },
    {
      "cell_type": "markdown",
      "source": [
        "Drug Effectiveness in Reducing Blood Pressure"
      ],
      "metadata": {
        "id": "_dhTBtfrQ46M"
      }
    },
    {
      "cell_type": "code",
      "source": [
        "# Data\n",
        "before_drug = np.array([145, 150, 140, 135, 155, 160, 152, 148, 130, 138])\n",
        "after_drug = np.array([130, 140, 132, 128, 145, 148, 138, 136, 125, 130])\n",
        "\n",
        "# Calculate differences\n",
        "differences = before_drug - after_drug\n",
        "\n",
        "# Perform z-test\n",
        "mean_diff = np.mean(differences)\n",
        "std_diff = np.std(differences, ddof=1)\n",
        "n = len(differences)\n",
        "\n",
        "z_stat = mean_diff / (std_diff / np.sqrt(n))\n",
        "p_value = stats.norm.sf(z_stat)  # One-tailed test\n",
        "\n",
        "print(f\"Z-statistic: {z_stat:.4f}, P-value: {p_value:.4f}\")\n",
        "if p_value < 0.05:\n",
        "    print(\"Reject the null hypothesis: The drug is effective in reducing blood pressure.\")\n",
        "else:\n",
        "    print(\"Fail to reject the null hypothesis: The drug does not significantly reduce blood pressure.\")\n",
        "\n"
      ],
      "metadata": {
        "id": "ibeVGK_oQ50F",
        "colab": {
          "base_uri": "https://localhost:8080/"
        },
        "outputId": "d947a614-ee14-41aa-819c-922520aa8003"
      },
      "execution_count": 17,
      "outputs": [
        {
          "output_type": "stream",
          "name": "stdout",
          "text": [
            "Z-statistic: 10.0499, P-value: 0.0000\n",
            "Reject the null hypothesis: The drug is effective in reducing blood pressure.\n"
          ]
        }
      ]
    },
    {
      "cell_type": "markdown",
      "source": [
        "Customer Service Response Time"
      ],
      "metadata": {
        "id": "ItBX1JX6RA3_"
      }
    },
    {
      "cell_type": "code",
      "source": [
        "import numpy as np\n",
        "from scipy.stats import norm\n",
        "\n",
        "# Data\n",
        "response_times = np.array([4.3, 3.8, 5.1, 4.9, 4.7, 4.2, 5.2, 4.5, 4.6, 4.4])\n",
        "\n",
        "# Hypothesis test parameters\n",
        "mean_response = np.mean(response_times)\n",
        "std_response = np.std(response_times, ddof=1)\n",
        "n = len(response_times)\n",
        "population_mean = 5  # Hypothesized mean\n",
        "\n",
        "# Z-statistic\n",
        "z_stat = (mean_response - population_mean) / (std_response / np.sqrt(n))\n",
        "p_value = norm.cdf(z_stat)  # One-tailed test\n",
        "\n",
        "print(f\"Z-statistic: {z_stat:.4f}, P-value: {p_value:.4f}\")\n",
        "if p_value < 0.05:\n",
        "    print(\"Reject the null hypothesis: The average response time is less than 5 minutes.\")\n",
        "else:\n",
        "    print(\"Fail to reject the null hypothesis: No evidence that the average response time is less than 5 minutes.\")\n"
      ],
      "metadata": {
        "id": "Sh0NBsMmRCDJ",
        "colab": {
          "base_uri": "https://localhost:8080/"
        },
        "outputId": "7ed82962-3a08-4aa5-d67f-f7d062208253"
      },
      "execution_count": 18,
      "outputs": [
        {
          "output_type": "stream",
          "name": "stdout",
          "text": [
            "Z-statistic: -3.1845, P-value: 0.0007\n",
            "Reject the null hypothesis: The average response time is less than 5 minutes.\n"
          ]
        }
      ]
    },
    {
      "cell_type": "markdown",
      "source": [
        "A/B Test for Website Click-through Rates"
      ],
      "metadata": {
        "id": "fGgXlxZ-RGAi"
      }
    },
    {
      "cell_type": "code",
      "source": [
        "from scipy.stats import ttest_ind\n",
        "\n",
        "# Data\n",
        "layout_a_clicks = [28, 32, 33, 29, 31, 34, 30, 35, 36, 37]\n",
        "layout_b_clicks = [40, 41, 38, 42, 39, 44, 43, 41, 45, 47]\n",
        "\n",
        "# Perform t-test\n",
        "t_stat, p_value = ttest_ind(layout_a_clicks, layout_b_clicks, alternative='less')\n",
        "\n",
        "print(f\"T-statistic: {t_stat:.4f}, P-value: {p_value:.4f}\")\n",
        "if p_value < 0.05:\n",
        "    print(\"Reject the null hypothesis: Layout B has higher click-through rates.\")\n",
        "else:\n",
        "    print(\"Fail to reject the null hypothesis: No evidence that Layout B has higher click-through rates.\")\n"
      ],
      "metadata": {
        "id": "ov46iJWLRHDY",
        "colab": {
          "base_uri": "https://localhost:8080/"
        },
        "outputId": "3d2cd736-864f-4f5f-a335-efd688bf70e5"
      },
      "execution_count": 19,
      "outputs": [
        {
          "output_type": "stream",
          "name": "stdout",
          "text": [
            "T-statistic: -7.2981, P-value: 0.0000\n",
            "Reject the null hypothesis: Layout B has higher click-through rates.\n"
          ]
        }
      ]
    },
    {
      "cell_type": "markdown",
      "source": [
        "Drug Effectiveness in Reducing Cholesterol"
      ],
      "metadata": {
        "id": "T1LGwxiMRKsw"
      }
    },
    {
      "cell_type": "code",
      "source": [
        "# Data\n",
        "existing_drug_levels = [180, 182, 175, 185, 178, 176, 172, 184, 179, 183]\n",
        "new_drug_levels = [170, 172, 165, 168, 175, 173, 170, 178, 172, 176]\n",
        "\n",
        "# Perform t-test\n",
        "t_stat, p_value = ttest_ind(existing_drug_levels, new_drug_levels, alternative='greater')\n",
        "\n",
        "print(f\"T-statistic: {t_stat:.4f}, P-value: {p_value:.4f}\")\n",
        "if p_value < 0.05:\n",
        "    print(\"Reject the null hypothesis: The new drug is more effective in reducing cholesterol.\")\n",
        "else:\n",
        "    print(\"Fail to reject the null hypothesis: No evidence that the new drug is more effective.\")\n"
      ],
      "metadata": {
        "id": "DJr4XLBhRLgg",
        "colab": {
          "base_uri": "https://localhost:8080/"
        },
        "outputId": "3a284d09-d290-4b6b-ee57-7145d3d675a5"
      },
      "execution_count": 20,
      "outputs": [
        {
          "output_type": "stream",
          "name": "stdout",
          "text": [
            "T-statistic: 4.1405, P-value: 0.0003\n",
            "Reject the null hypothesis: The new drug is more effective in reducing cholesterol.\n"
          ]
        }
      ]
    },
    {
      "cell_type": "markdown",
      "source": [
        "Educational Intervention Program"
      ],
      "metadata": {
        "id": "RV0TUsGQRQwL"
      }
    },
    {
      "cell_type": "code",
      "source": [
        "from scipy.stats import ttest_rel\n",
        "\n",
        "# Data\n",
        "pre_intervention_scores = [80, 85, 90, 75, 88, 82, 92, 78, 85, 87]\n",
        "post_intervention_scores = [90, 92, 88, 92, 95, 91, 96, 93, 89, 93]\n",
        "\n",
        "# Perform paired t-test\n",
        "t_stat, p_value = ttest_rel(post_intervention_scores, pre_intervention_scores)\n",
        "\n",
        "print(f\"T-statistic: {t_stat:.4f}, P-value: {p_value:.4f}\")\n",
        "if p_value < 0.05:\n",
        "    print(\"Reject the null hypothesis: The intervention significantly improved math scores.\")\n",
        "else:\n",
        "    print(\"Fail to reject the null hypothesis: No evidence that the intervention improved math scores.\")\n"
      ],
      "metadata": {
        "id": "4HUpkbn_RRmB",
        "colab": {
          "base_uri": "https://localhost:8080/"
        },
        "outputId": "43a1eb33-7d74-49f3-9ad0-b9277b02fef5"
      },
      "execution_count": 29,
      "outputs": [
        {
          "output_type": "stream",
          "name": "stdout",
          "text": [
            "T-statistic: 4.4284, P-value: 0.0017\n",
            "Reject the null hypothesis: The intervention significantly improved math scores.\n"
          ]
        }
      ]
    },
    {
      "cell_type": "markdown",
      "source": [
        "Gender-based Salary Gap"
      ],
      "metadata": {
        "id": "TD91XS4bRVPS"
      }
    },
    {
      "cell_type": "code",
      "source": [
        "# Data\n",
        "np.random.seed(0)\n",
        "male_salaries = np.random.normal(loc=50000, scale=10000, size=20)\n",
        "female_salaries = np.random.normal(loc=55000, scale=9000, size=20)\n",
        "\n",
        "# Perform t-test\n",
        "t_stat, p_value = ttest_ind(male_salaries, female_salaries)\n",
        "\n",
        "print(f\"T-statistic: {t_stat:.4f}, P-value: {p_value:.4f}\")\n",
        "if p_value < 0.05:\n",
        "    print(\"Reject the null hypothesis: Significant gender-based salary gap exists.\")\n",
        "else:\n",
        "    print(\"Fail to reject the null hypothesis: No evidence of a gender-based salary gap.\")\n"
      ],
      "metadata": {
        "id": "YqwysoWWRWS_",
        "colab": {
          "base_uri": "https://localhost:8080/"
        },
        "outputId": "81edaeb3-e348-44e0-ec9b-ca883407f0ac"
      },
      "execution_count": 22,
      "outputs": [
        {
          "output_type": "stream",
          "name": "stdout",
          "text": [
            "T-statistic: 0.0611, P-value: 0.9516\n",
            "Fail to reject the null hypothesis: No evidence of a gender-based salary gap.\n"
          ]
        }
      ]
    },
    {
      "cell_type": "markdown",
      "source": [
        "Product Quality Assessment"
      ],
      "metadata": {
        "id": "Vpfv5sHtRa3l"
      }
    },
    {
      "cell_type": "code",
      "source": [
        "# Data\n",
        "version1_scores = [85, 88, 82, 89, 87, 84, 90, 88, 85, 86, 91, 83, 87, 84, 89, 86, 84, 88, 85, 86, 89, 90, 87, 88, 85]\n",
        "version2_scores = [80, 78, 83, 81, 79, 82, 76, 80, 78, 81, 77, 82, 80, 79, 82, 79, 80, 81, 79, 82, 79, 78, 80, 81, 82]\n",
        "\n",
        "# Perform t-test\n",
        "t_stat, p_value = ttest_ind(version1_scores, version2_scores)\n",
        "\n",
        "print(f\"T-statistic: {t_stat:.4f}, P-value: {p_value:.4f}\")\n",
        "if p_value < 0.05:\n",
        "    print(\"Reject the null hypothesis: Significant difference in quality between the versions.\")\n",
        "else:\n",
        "    print(\"Fail to reject the null hypothesis: No evidence of a quality difference between the versions.\")\n"
      ],
      "metadata": {
        "id": "Vvx4OJB-RbtB",
        "colab": {
          "base_uri": "https://localhost:8080/"
        },
        "outputId": "8c83b6b3-00b6-4dbc-e25a-1612bee62b54"
      },
      "execution_count": 23,
      "outputs": [
        {
          "output_type": "stream",
          "name": "stdout",
          "text": [
            "T-statistic: 11.3258, P-value: 0.0000\n",
            "Reject the null hypothesis: Significant difference in quality between the versions.\n"
          ]
        }
      ]
    },
    {
      "cell_type": "markdown",
      "source": [
        "Customer Satisfaction Between Branches"
      ],
      "metadata": {
        "id": "WEYHpDA7RfYt"
      }
    },
    {
      "cell_type": "code",
      "source": [
        "# Data\n",
        "branch_a_scores = [4, 5, 3, 4, 5, 4, 5, 3, 4, 4, 5, 4, 4, 3, 4, 5, 5, 4, 3, 4, 5, 4, 3, 5, 4, 4, 5, 3, 4, 5, 4]\n",
        "branch_b_scores = [3, 4, 2, 3, 4, 3, 4, 2, 3, 3, 4, 3, 3, 2, 3, 4, 4, 3, 2, 3, 4, 3, 2, 4, 3, 3, 4, 2, 3, 4, 3]\n",
        "\n",
        "# Perform t-test\n",
        "t_stat, p_value = ttest_ind(branch_a_scores, branch_b_scores)\n",
        "\n",
        "print(f\"T-statistic: {t_stat:.4f}, P-value: {p_value:.4f}\")\n",
        "if p_value < 0.05:\n",
        "    print(\"Reject the null hypothesis: Significant difference in customer satisfaction between branches.\")\n",
        "else:\n",
        "    print(\"Fail to reject the null hypothesis: No evidence of a difference in satisfaction between branches.\")\n"
      ],
      "metadata": {
        "id": "vLcnNR-kRgNR",
        "colab": {
          "base_uri": "https://localhost:8080/"
        },
        "outputId": "bc24bc5d-a03d-4b12-81fc-2c116f42d613"
      },
      "execution_count": 24,
      "outputs": [
        {
          "output_type": "stream",
          "name": "stdout",
          "text": [
            "T-statistic: 5.4801, P-value: 0.0000\n",
            "Reject the null hypothesis: Significant difference in customer satisfaction between branches.\n"
          ]
        }
      ]
    },
    {
      "cell_type": "markdown",
      "source": [
        "Age Groups and Voter Preferences (Chi-Square Test)"
      ],
      "metadata": {
        "id": "vGTy3ZP9R9Zg"
      }
    },
    {
      "cell_type": "code",
      "source": [
        "import numpy as np\n",
        "import pandas as pd\n",
        "from scipy.stats import chi2_contingency\n",
        "\n",
        "# Generate data\n",
        "np.random.seed(0)\n",
        "age_groups = np.random.choice(['18-30', '31-50', '51+'], size=30)\n",
        "voter_preferences = np.random.choice(['Candidate A', 'Candidate B'], size=30)\n",
        "\n",
        "# Create a contingency table\n",
        "contingency_table = pd.crosstab(age_groups, voter_preferences)\n",
        "\n",
        "# Perform Chi-Square test\n",
        "chi2, p, dof, expected = chi2_contingency(contingency_table)\n",
        "\n",
        "print(f\"Chi-Square Statistic: {chi2:.4f}\")\n",
        "print(f\"P-value: {p:.4f}\")\n",
        "print(f\"Degrees of Freedom: {dof}\")\n",
        "if p < 0.05:\n",
        "    print(\"Reject the null hypothesis: There is a significant association between age groups and voter preferences.\")\n",
        "else:\n",
        "    print(\"Fail to reject the null hypothesis: No significant association between age groups and voter preferences.\")\n"
      ],
      "metadata": {
        "id": "J78EIcetR9pX",
        "colab": {
          "base_uri": "https://localhost:8080/"
        },
        "outputId": "f37b7997-67a7-49b2-922b-23efdf3c525a"
      },
      "execution_count": 25,
      "outputs": [
        {
          "output_type": "stream",
          "name": "stdout",
          "text": [
            "Chi-Square Statistic: 1.4402\n",
            "P-value: 0.4867\n",
            "Degrees of Freedom: 2\n",
            "Fail to reject the null hypothesis: No significant association between age groups and voter preferences.\n"
          ]
        }
      ]
    },
    {
      "cell_type": "markdown",
      "source": [
        "Product Satisfaction Levels and Customer Regions (Chi-Square Test)"
      ],
      "metadata": {
        "id": "uVJThjDjR99F"
      }
    },
    {
      "cell_type": "code",
      "source": [
        "# Sample data\n",
        "data = np.array([[50, 30, 40, 20], [30, 40, 30, 50], [20, 30, 40, 30]])\n",
        "\n",
        "# Perform Chi-Square test\n",
        "chi2, p, dof, expected = chi2_contingency(data)\n",
        "\n",
        "print(f\"Chi-Square Statistic: {chi2:.4f}\")\n",
        "print(f\"P-value: {p:.4f}\")\n",
        "print(f\"Degrees of Freedom: {dof}\")\n",
        "if p < 0.05:\n",
        "    print(\"Reject the null hypothesis: There is a significant relationship between product satisfaction and customer regions.\")\n",
        "else:\n",
        "    print(\"Fail to reject the null hypothesis: No significant relationship between product satisfaction and customer regions.\")\n"
      ],
      "metadata": {
        "id": "WCR9sP2QR-NA",
        "colab": {
          "base_uri": "https://localhost:8080/"
        },
        "outputId": "ecb0bd7f-52d5-4842-f191-a4b8efdb4f09"
      },
      "execution_count": 26,
      "outputs": [
        {
          "output_type": "stream",
          "name": "stdout",
          "text": [
            "Chi-Square Statistic: 27.7771\n",
            "P-value: 0.0001\n",
            "Degrees of Freedom: 6\n",
            "Reject the null hypothesis: There is a significant relationship between product satisfaction and customer regions.\n"
          ]
        }
      ]
    },
    {
      "cell_type": "markdown",
      "source": [
        "Job Performance Before and After Training (Chi-Square Test)"
      ],
      "metadata": {
        "id": "y7jLdGHVR-ej"
      }
    },
    {
      "cell_type": "code",
      "source": [
        "# Sample data\n",
        "data = np.array([[50, 30, 20], [30, 40, 30], [20, 30, 40]])\n",
        "\n",
        "# Perform Chi-Square test\n",
        "chi2, p, dof, expected = chi2_contingency(data)\n",
        "\n",
        "print(f\"Chi-Square Statistic: {chi2:.4f}\")\n",
        "print(f\"P-value: {p:.4f}\")\n",
        "print(f\"Degrees of Freedom: {dof}\")\n",
        "if p < 0.05:\n",
        "    print(\"Reject the null hypothesis: There is a significant difference in job performance levels before and after training.\")\n",
        "else:\n",
        "    print(\"Fail to reject the null hypothesis: No significant difference in job performance levels before and after training.\")\n"
      ],
      "metadata": {
        "id": "FojkYFyoR-sw",
        "colab": {
          "base_uri": "https://localhost:8080/"
        },
        "outputId": "cebc23bf-b799-4537-ba0f-8ecea9e6af7b"
      },
      "execution_count": 27,
      "outputs": [
        {
          "output_type": "stream",
          "name": "stdout",
          "text": [
            "Chi-Square Statistic: 22.1617\n",
            "P-value: 0.0002\n",
            "Degrees of Freedom: 4\n",
            "Reject the null hypothesis: There is a significant difference in job performance levels before and after training.\n"
          ]
        }
      ]
    },
    {
      "cell_type": "markdown",
      "source": [
        "Customer Satisfaction Scores Among Product Versions (ANOVA Test)"
      ],
      "metadata": {
        "id": "9D-zqqEUSRT6"
      }
    },
    {
      "cell_type": "code",
      "source": [
        "from scipy.stats import f_oneway\n",
        "\n",
        "# Sample data\n",
        "standard_scores = [80, 85, 90, 78, 88, 82, 92, 78, 85, 87]\n",
        "premium_scores = [90, 92, 88, 92, 95, 91, 96, 93, 89, 93]\n",
        "deluxe_scores = [95, 98, 92, 97, 96, 94, 98, 97, 92, 99]\n",
        "\n",
        "# Perform ANOVA test\n",
        "f_stat, p_value = f_oneway(standard_scores, premium_scores, deluxe_scores)\n",
        "\n",
        "print(f\"F-statistic: {f_stat:.4f}\")\n",
        "print(f\"P-value: {p_value:.4f}\")\n",
        "if p_value < 0.05:\n",
        "    print(\"Reject the null hypothesis: Significant difference in customer satisfaction scores among product versions.\")\n",
        "else:\n",
        "    print(\"Fail to reject the null hypothesis: No significant difference in customer satisfaction scores among product versions.\")\n"
      ],
      "metadata": {
        "id": "N2zSjQQVSSZA",
        "colab": {
          "base_uri": "https://localhost:8080/"
        },
        "outputId": "9b0910c5-d26f-41c5-c11f-6b73b57a48ff"
      },
      "execution_count": 28,
      "outputs": [
        {
          "output_type": "stream",
          "name": "stdout",
          "text": [
            "F-statistic: 27.0356\n",
            "P-value: 0.0000\n",
            "Reject the null hypothesis: Significant difference in customer satisfaction scores among product versions.\n"
          ]
        }
      ]
    }
  ]
}